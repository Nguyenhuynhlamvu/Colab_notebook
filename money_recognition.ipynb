{
  "cells": [
    {
      "cell_type": "code",
      "execution_count": null,
      "metadata": {
        "colab": {
          "base_uri": "https://localhost:8080/"
        },
        "id": "SS8Pp8Kjp-uM",
        "outputId": "56cb4cfd-d3c4-4791-84d0-6f2ae910335c"
      },
      "outputs": [
        {
          "output_type": "stream",
          "name": "stdout",
          "text": [
            "Mounted at /content/drive\n"
          ]
        }
      ],
      "source": [
        "from google.colab import drive\n",
        "drive.mount('/content/drive')"
      ]
    },
    {
      "cell_type": "code",
      "execution_count": null,
      "metadata": {
        "colab": {
          "base_uri": "https://localhost:8080/"
        },
        "id": "rqiXePOBqSub",
        "outputId": "01fb18f5-7b7a-4a99-d32f-4d95773a38ba"
      },
      "outputs": [
        {
          "output_type": "stream",
          "name": "stdout",
          "text": [
            "/content/drive/MyDrive/Artificial_intelligence/data\n"
          ]
        }
      ],
      "source": [
        "cd /content/drive/MyDrive/Data"
      ]
    },
    {
      "cell_type": "code",
      "execution_count": null,
      "metadata": {
        "colab": {
          "base_uri": "https://localhost:8080/"
        },
        "id": "NQpqBsnsqSr-",
        "outputId": "c6521164-459b-4b55-b3f3-7b81def1f94c"
      },
      "outputs": [
        {
          "output_type": "stream",
          "name": "stdout",
          "text": [
            "\u001b[0m\u001b[01;34mbangla_banknote_v2\u001b[0m/  \u001b[01;34mflowers\u001b[0m/             rice_image_dataset.zip  VN_food.zip\n",
            "Bangla_money.zip     \u001b[01;34mRice_Image_Dataset\u001b[0m/  \u001b[01;34mVN_food\u001b[0m/\n"
          ]
        }
      ],
      "source": [
        "ls"
      ]
    },
    {
      "cell_type": "code",
      "execution_count": null,
      "metadata": {
        "id": "eKI7BCOpqSl-"
      },
      "outputs": [],
      "source": [
        "# !unzip 'Bangla_money.zip'"
      ]
    },
    {
      "cell_type": "code",
      "execution_count": null,
      "metadata": {
        "colab": {
          "base_uri": "https://localhost:8080/"
        },
        "id": "M8w_W-DFrF99",
        "outputId": "636d55b5-f7b7-42a6-9bc2-b4fd9340b521"
      },
      "outputs": [
        {
          "output_type": "stream",
          "name": "stdout",
          "text": [
            "['1', '10', '100', '1000', '2', '20', '5', '50', '500']\n",
            "1\n",
            "10\n",
            "100\n",
            "1000\n",
            "2\n",
            "20\n",
            "5\n",
            "50\n",
            "500\n"
          ]
        }
      ],
      "source": [
        "import cv2\n",
        "from pathlib import Path\n",
        "money_dataset_folder = '/content/drive/MyDrive/Data/bangla_banknote_v2/Training/'\n",
        "classnames = []\n",
        "for path in Path(money_dataset_folder).iterdir():\n",
        "    if path.is_dir():\n",
        "        classnames.append(str(path).split('/')[-1])\n",
        "print(classnames)\n",
        "X = []\n",
        "y = []\n",
        "for i in range(len(classnames)):\n",
        "  print(classnames[i])\n",
        "  images = list(Path(money_dataset_folder+classnames[i]).glob('*'))\n",
        "  for image in range(int(0.4*len(images))):\n",
        "    img = cv2.imread(str(images[image]))\n",
        "    img = cv2.resize(img, (64, 64))\n",
        "    img = img.astype('float32')\n",
        "    img = img/255\n",
        "    X.append(img)\n",
        "    y.append(i)"
      ]
    },
    {
      "cell_type": "code",
      "source": [],
      "metadata": {
        "id": "QcBAiqSMYryB"
      },
      "execution_count": null,
      "outputs": []
    },
    {
      "cell_type": "code",
      "source": [
        "import numpy as np\n",
        "X = np.array(X)\n",
        "y = np.array(y)"
      ],
      "metadata": {
        "id": "v2LI3Ae4BE8y"
      },
      "execution_count": null,
      "outputs": []
    },
    {
      "cell_type": "code",
      "execution_count": null,
      "metadata": {
        "id": "bj4gsTa0rF4n"
      },
      "outputs": [],
      "source": [
        "from sklearn.model_selection import train_test_split\n",
        "X_train, X_test, y_train, y_test = train_test_split(X, y, test_size=0.2)"
      ]
    },
    {
      "cell_type": "code",
      "execution_count": null,
      "metadata": {
        "colab": {
          "base_uri": "https://localhost:8080/"
        },
        "id": "fk-53VO7tlTV",
        "outputId": "e36b2662-e213-4e24-a7a4-ec909965bb9a"
      },
      "outputs": [
        {
          "output_type": "stream",
          "name": "stdout",
          "text": [
            "(522, 64, 64, 3)\n",
            "(131, 64, 64, 3)\n",
            "(522, 9)\n",
            "(131, 9)\n"
          ]
        }
      ],
      "source": [
        "print(X_train.shape)\n",
        "print(X_test.shape)\n",
        "print(y_train.shape)\n",
        "print(y_test.shape)"
      ]
    },
    {
      "cell_type": "code",
      "execution_count": null,
      "metadata": {
        "id": "89U5yMsrtlNy"
      },
      "outputs": [],
      "source": [
        "from keras.utils import to_categorical\n",
        "y_train = to_categorical(y_train)\n",
        "y_test = to_categorical(y_test)"
      ]
    },
    {
      "cell_type": "code",
      "execution_count": null,
      "metadata": {
        "colab": {
          "base_uri": "https://localhost:8080/",
          "height": 286
        },
        "id": "n8MVIl1rC2yH",
        "outputId": "4b883ac0-5af5-42bf-94f4-c1b33a076f60"
      },
      "outputs": [
        {
          "output_type": "stream",
          "name": "stdout",
          "text": [
            "[0. 0. 1. 0. 0. 0. 0. 0. 0.]\n"
          ]
        },
        {
          "output_type": "display_data",
          "data": {
            "text/plain": [
              "<Figure size 432x288 with 1 Axes>"
            ],
            "image/png": "[encoded data removed]"
          },
          "metadata": {
            "needs_background": "light"
          }
        }
      ],
      "source": [
        "import matplotlib.pyplot as plt\n",
        "plt.imshow(X_train[6])\n",
        "print(y_train[6])"
      ]
    },
    {
      "cell_type": "code",
      "execution_count": null,
      "metadata": {
        "colab": {
          "base_uri": "https://localhost:8080/"
        },
        "id": "ZYsO2WIUC20W",
        "outputId": "e9cca5e7-e110-4904-8782-8cee6936e42d"
      },
      "outputs": [
        {
          "output_type": "stream",
          "name": "stdout",
          "text": [
            "Model: \"sequential_2\"\n",
            "_________________________________________________________________\n",
            " Layer (type)                Output Shape              Param #   \n",
            "=================================================================\n",
            " conv2d_6 (Conv2D)           (None, 64, 64, 32)        896       \n",
            "                                                                 \n",
            " max_pooling2d_6 (MaxPooling  (None, 32, 32, 32)       0         \n",
            " 2D)                                                             \n",
            "                                                                 \n",
            " conv2d_7 (Conv2D)           (None, 32, 32, 64)        18496     \n",
            "                                                                 \n",
            " max_pooling2d_7 (MaxPooling  (None, 16, 16, 64)       0         \n",
            " 2D)                                                             \n",
            "                                                                 \n",
            " conv2d_8 (Conv2D)           (None, 16, 16, 128)       73856     \n",
            "                                                                 \n",
            " max_pooling2d_8 (MaxPooling  (None, 8, 8, 128)        0         \n",
            " 2D)                                                             \n",
            "                                                                 \n",
            " flatten_2 (Flatten)         (None, 8192)              0         \n",
            "                                                                 \n",
            " dense_8 (Dense)             (None, 128)               1048704   \n",
            "                                                                 \n",
            " dense_9 (Dense)             (None, 500)               64500     \n",
            "                                                                 \n",
            " dense_10 (Dense)            (None, 128)               64128     \n",
            "                                                                 \n",
            " dense_11 (Dense)            (None, 9)                 1161      \n",
            "                                                                 \n",
            "=================================================================\n",
            "Total params: 1,271,741\n",
            "Trainable params: 1,271,741\n",
            "Non-trainable params: 0\n",
            "_________________________________________________________________\n"
          ]
        }
      ],
      "source": [
        "from keras.models import Sequential, Model\n",
        "from keras import layers\n",
        "from keras.layers import Dense, Dropout, Flatten, Conv2D, MaxPooling2D\n",
        "model = Sequential()\n",
        "model.add(Conv2D(32, kernel_size=3, activation='relu', input_shape=X_train[0].shape, padding='same'))\n",
        "model.add(MaxPooling2D(2, 2))\n",
        "model.add(Conv2D(64, kernel_size=3, activation='relu', padding='same'))\n",
        "model.add(MaxPooling2D(2, 2))\n",
        "model.add(Conv2D(128, kernel_size=3, activation='relu', padding='same'))\n",
        "model.add(MaxPooling2D(2, 2))\n",
        "# ANN\n",
        "model.add(Flatten())\n",
        "model.add(Dense(128, activation='relu'))\n",
        "model.add(Dense(500, activation='relu'))\n",
        "model.add(Dense(128, activation='relu'))\n",
        "model.add(Dense(y_train.shape[1], activation='softmax'))\n",
        "model.summary()"
      ]
    },
    {
      "cell_type": "code",
      "execution_count": null,
      "metadata": {
        "id": "GVpGbgrlqcwH"
      },
      "outputs": [],
      "source": [
        "import keras\n",
        "model.compile(optimizer=keras.optimizers.Adam(), loss='categorical_crossentropy', metrics=['accuracy'])"
      ]
    },
    {
      "cell_type": "code",
      "execution_count": null,
      "metadata": {
        "colab": {
          "base_uri": "https://localhost:8080/"
        },
        "id": "Lh6HD96MsAae",
        "outputId": "4468533a-0ede-4e27-d1cb-8f2641d0951c"
      },
      "outputs": [
        {
          "output_type": "stream",
          "name": "stdout",
          "text": [
            "Epoch 1/100\n",
            "5/5 - 1s - loss: 2.1837 - accuracy: 0.1437 - 648ms/epoch - 130ms/step\n",
            "Epoch 2/100\n",
            "5/5 - 0s - loss: 2.1412 - accuracy: 0.1897 - 99ms/epoch - 20ms/step\n",
            "Epoch 3/100\n",
            "5/5 - 0s - loss: 2.1241 - accuracy: 0.1533 - 90ms/epoch - 18ms/step\n",
            "Epoch 4/100\n",
            "5/5 - 0s - loss: 2.1332 - accuracy: 0.1820 - 79ms/epoch - 16ms/step\n",
            "Epoch 5/100\n",
            "5/5 - 0s - loss: 2.0920 - accuracy: 0.2031 - 80ms/epoch - 16ms/step\n",
            "Epoch 6/100\n",
            "5/5 - 0s - loss: 2.0232 - accuracy: 0.2433 - 79ms/epoch - 16ms/step\n",
            "Epoch 7/100\n",
            "5/5 - 0s - loss: 1.9634 - accuracy: 0.2989 - 76ms/epoch - 15ms/step\n",
            "Epoch 8/100\n",
            "5/5 - 0s - loss: 1.9008 - accuracy: 0.2931 - 80ms/epoch - 16ms/step\n",
            "Epoch 9/100\n",
            "5/5 - 0s - loss: 1.7646 - accuracy: 0.3238 - 78ms/epoch - 16ms/step\n",
            "Epoch 10/100\n",
            "5/5 - 0s - loss: 1.6158 - accuracy: 0.4406 - 75ms/epoch - 15ms/step\n",
            "Epoch 11/100\n",
            "5/5 - 0s - loss: 1.8585 - accuracy: 0.3352 - 77ms/epoch - 15ms/step\n",
            "Epoch 12/100\n",
            "5/5 - 0s - loss: 1.5252 - accuracy: 0.4598 - 80ms/epoch - 16ms/step\n",
            "Epoch 13/100\n",
            "5/5 - 0s - loss: 1.3377 - accuracy: 0.5536 - 78ms/epoch - 16ms/step\n",
            "Epoch 14/100\n",
            "5/5 - 0s - loss: 1.0766 - accuracy: 0.6130 - 79ms/epoch - 16ms/step\n",
            "Epoch 15/100\n",
            "5/5 - 0s - loss: 1.1764 - accuracy: 0.6188 - 78ms/epoch - 16ms/step\n",
            "Epoch 16/100\n",
            "5/5 - 0s - loss: 0.9733 - accuracy: 0.6782 - 78ms/epoch - 16ms/step\n",
            "Epoch 17/100\n",
            "5/5 - 0s - loss: 0.7260 - accuracy: 0.7644 - 78ms/epoch - 16ms/step\n",
            "Epoch 18/100\n",
            "5/5 - 0s - loss: 0.6299 - accuracy: 0.7854 - 78ms/epoch - 16ms/step\n",
            "Epoch 19/100\n",
            "5/5 - 0s - loss: 0.5460 - accuracy: 0.8199 - 77ms/epoch - 15ms/step\n",
            "Epoch 20/100\n",
            "5/5 - 0s - loss: 0.4690 - accuracy: 0.8410 - 78ms/epoch - 16ms/step\n",
            "Epoch 21/100\n",
            "5/5 - 0s - loss: 0.4165 - accuracy: 0.8640 - 77ms/epoch - 15ms/step\n",
            "Epoch 22/100\n",
            "5/5 - 0s - loss: 0.3339 - accuracy: 0.8908 - 76ms/epoch - 15ms/step\n",
            "Epoch 23/100\n",
            "5/5 - 0s - loss: 0.2908 - accuracy: 0.9004 - 79ms/epoch - 16ms/step\n",
            "Epoch 24/100\n",
            "5/5 - 0s - loss: 0.3529 - accuracy: 0.8621 - 83ms/epoch - 17ms/step\n",
            "Epoch 25/100\n",
            "5/5 - 0s - loss: 0.4979 - accuracy: 0.8582 - 78ms/epoch - 16ms/step\n",
            "Epoch 26/100\n",
            "5/5 - 0s - loss: 0.3253 - accuracy: 0.9004 - 76ms/epoch - 15ms/step\n",
            "Epoch 27/100\n",
            "5/5 - 0s - loss: 0.3538 - accuracy: 0.8640 - 76ms/epoch - 15ms/step\n",
            "Epoch 28/100\n",
            "5/5 - 0s - loss: 0.3020 - accuracy: 0.8966 - 76ms/epoch - 15ms/step\n",
            "Epoch 29/100\n",
            "5/5 - 0s - loss: 0.1932 - accuracy: 0.9464 - 75ms/epoch - 15ms/step\n",
            "Epoch 30/100\n",
            "5/5 - 0s - loss: 0.2153 - accuracy: 0.9291 - 75ms/epoch - 15ms/step\n",
            "Epoch 31/100\n",
            "5/5 - 0s - loss: 0.1566 - accuracy: 0.9502 - 77ms/epoch - 15ms/step\n",
            "Epoch 32/100\n",
            "5/5 - 0s - loss: 0.1227 - accuracy: 0.9617 - 76ms/epoch - 15ms/step\n",
            "Epoch 33/100\n",
            "5/5 - 0s - loss: 0.0976 - accuracy: 0.9655 - 75ms/epoch - 15ms/step\n",
            "Epoch 34/100\n",
            "5/5 - 0s - loss: 0.0671 - accuracy: 0.9751 - 80ms/epoch - 16ms/step\n",
            "Epoch 35/100\n",
            "5/5 - 0s - loss: 0.0638 - accuracy: 0.9828 - 83ms/epoch - 17ms/step\n",
            "Epoch 36/100\n",
            "5/5 - 0s - loss: 0.0361 - accuracy: 0.9866 - 77ms/epoch - 15ms/step\n",
            "Epoch 37/100\n",
            "5/5 - 0s - loss: 0.0338 - accuracy: 0.9923 - 81ms/epoch - 16ms/step\n",
            "Epoch 38/100\n",
            "5/5 - 0s - loss: 0.0386 - accuracy: 0.9904 - 82ms/epoch - 16ms/step\n",
            "Epoch 39/100\n",
            "5/5 - 0s - loss: 0.0247 - accuracy: 0.9981 - 75ms/epoch - 15ms/step\n",
            "Epoch 40/100\n",
            "5/5 - 0s - loss: 0.0379 - accuracy: 0.9904 - 77ms/epoch - 15ms/step\n",
            "Epoch 41/100\n",
            "5/5 - 0s - loss: 0.0368 - accuracy: 0.9847 - 77ms/epoch - 15ms/step\n",
            "Epoch 42/100\n",
            "5/5 - 0s - loss: 0.0257 - accuracy: 0.9923 - 82ms/epoch - 16ms/step\n",
            "Epoch 43/100\n",
            "5/5 - 0s - loss: 0.0226 - accuracy: 0.9943 - 76ms/epoch - 15ms/step\n",
            "Epoch 44/100\n",
            "5/5 - 0s - loss: 0.0131 - accuracy: 0.9962 - 76ms/epoch - 15ms/step\n",
            "Epoch 45/100\n",
            "5/5 - 0s - loss: 0.0073 - accuracy: 1.0000 - 77ms/epoch - 15ms/step\n",
            "Epoch 46/100\n",
            "5/5 - 0s - loss: 0.0072 - accuracy: 1.0000 - 78ms/epoch - 16ms/step\n",
            "Epoch 47/100\n",
            "5/5 - 0s - loss: 0.0040 - accuracy: 1.0000 - 79ms/epoch - 16ms/step\n",
            "Epoch 48/100\n",
            "5/5 - 0s - loss: 0.0040 - accuracy: 1.0000 - 79ms/epoch - 16ms/step\n",
            "Epoch 49/100\n",
            "5/5 - 0s - loss: 0.0028 - accuracy: 1.0000 - 79ms/epoch - 16ms/step\n",
            "Epoch 50/100\n",
            "5/5 - 0s - loss: 0.0030 - accuracy: 1.0000 - 75ms/epoch - 15ms/step\n",
            "Epoch 51/100\n",
            "5/5 - 0s - loss: 0.0021 - accuracy: 1.0000 - 78ms/epoch - 16ms/step\n",
            "Epoch 52/100\n",
            "5/5 - 0s - loss: 0.0020 - accuracy: 1.0000 - 77ms/epoch - 15ms/step\n",
            "Epoch 53/100\n",
            "5/5 - 0s - loss: 0.0016 - accuracy: 1.0000 - 76ms/epoch - 15ms/step\n",
            "Epoch 54/100\n",
            "5/5 - 0s - loss: 0.0016 - accuracy: 1.0000 - 77ms/epoch - 15ms/step\n",
            "Epoch 55/100\n",
            "5/5 - 0s - loss: 0.0014 - accuracy: 1.0000 - 76ms/epoch - 15ms/step\n",
            "Epoch 56/100\n",
            "5/5 - 0s - loss: 0.0013 - accuracy: 1.0000 - 77ms/epoch - 15ms/step\n",
            "Epoch 57/100\n",
            "5/5 - 0s - loss: 0.0012 - accuracy: 1.0000 - 77ms/epoch - 15ms/step\n",
            "Epoch 58/100\n",
            "5/5 - 0s - loss: 0.0011 - accuracy: 1.0000 - 78ms/epoch - 16ms/step\n",
            "Epoch 59/100\n",
            "5/5 - 0s - loss: 0.0010 - accuracy: 1.0000 - 77ms/epoch - 15ms/step\n",
            "Epoch 60/100\n",
            "5/5 - 0s - loss: 9.8139e-04 - accuracy: 1.0000 - 76ms/epoch - 15ms/step\n",
            "Epoch 61/100\n",
            "5/5 - 0s - loss: 9.7404e-04 - accuracy: 1.0000 - 81ms/epoch - 16ms/step\n",
            "Epoch 62/100\n",
            "5/5 - 0s - loss: 8.7379e-04 - accuracy: 1.0000 - 81ms/epoch - 16ms/step\n",
            "Epoch 63/100\n",
            "5/5 - 0s - loss: 8.4311e-04 - accuracy: 1.0000 - 76ms/epoch - 15ms/step\n",
            "Epoch 64/100\n",
            "5/5 - 0s - loss: 7.9676e-04 - accuracy: 1.0000 - 76ms/epoch - 15ms/step\n",
            "Epoch 65/100\n",
            "5/5 - 0s - loss: 9.0617e-04 - accuracy: 1.0000 - 77ms/epoch - 15ms/step\n",
            "Epoch 66/100\n",
            "5/5 - 0s - loss: 0.0026 - accuracy: 1.0000 - 79ms/epoch - 16ms/step\n",
            "Epoch 67/100\n",
            "5/5 - 0s - loss: 0.0010 - accuracy: 1.0000 - 78ms/epoch - 16ms/step\n",
            "Epoch 68/100\n",
            "5/5 - 0s - loss: 0.0013 - accuracy: 1.0000 - 76ms/epoch - 15ms/step\n",
            "Epoch 69/100\n",
            "5/5 - 0s - loss: 0.0020 - accuracy: 1.0000 - 78ms/epoch - 16ms/step\n",
            "Epoch 70/100\n",
            "5/5 - 0s - loss: 7.1897e-04 - accuracy: 1.0000 - 76ms/epoch - 15ms/step\n",
            "Epoch 71/100\n",
            "5/5 - 0s - loss: 0.0012 - accuracy: 1.0000 - 77ms/epoch - 15ms/step\n",
            "Epoch 72/100\n",
            "5/5 - 0s - loss: 0.0040 - accuracy: 1.0000 - 77ms/epoch - 15ms/step\n",
            "Epoch 73/100\n",
            "5/5 - 0s - loss: 0.0041 - accuracy: 0.9981 - 80ms/epoch - 16ms/step\n",
            "Epoch 74/100\n",
            "5/5 - 0s - loss: 0.0037 - accuracy: 1.0000 - 78ms/epoch - 16ms/step\n",
            "Epoch 75/100\n",
            "5/5 - 0s - loss: 0.0026 - accuracy: 1.0000 - 77ms/epoch - 15ms/step\n",
            "Epoch 76/100\n",
            "5/5 - 0s - loss: 0.0016 - accuracy: 1.0000 - 76ms/epoch - 15ms/step\n",
            "Epoch 77/100\n",
            "5/5 - 0s - loss: 8.9680e-04 - accuracy: 1.0000 - 75ms/epoch - 15ms/step\n",
            "Epoch 78/100\n",
            "5/5 - 0s - loss: 9.1214e-04 - accuracy: 1.0000 - 80ms/epoch - 16ms/step\n",
            "Epoch 79/100\n",
            "5/5 - 0s - loss: 7.2690e-04 - accuracy: 1.0000 - 79ms/epoch - 16ms/step\n",
            "Epoch 80/100\n",
            "5/5 - 0s - loss: 4.7983e-04 - accuracy: 1.0000 - 79ms/epoch - 16ms/step\n",
            "Epoch 81/100\n",
            "5/5 - 0s - loss: 3.9423e-04 - accuracy: 1.0000 - 78ms/epoch - 16ms/step\n",
            "Epoch 82/100\n",
            "5/5 - 0s - loss: 3.5080e-04 - accuracy: 1.0000 - 75ms/epoch - 15ms/step\n",
            "Epoch 83/100\n",
            "5/5 - 0s - loss: 3.4176e-04 - accuracy: 1.0000 - 76ms/epoch - 15ms/step\n",
            "Epoch 84/100\n",
            "5/5 - 0s - loss: 3.3047e-04 - accuracy: 1.0000 - 77ms/epoch - 15ms/step\n",
            "Epoch 85/100\n",
            "5/5 - 0s - loss: 3.1381e-04 - accuracy: 1.0000 - 77ms/epoch - 15ms/step\n",
            "Epoch 86/100\n",
            "5/5 - 0s - loss: 2.9938e-04 - accuracy: 1.0000 - 81ms/epoch - 16ms/step\n",
            "Epoch 87/100\n",
            "5/5 - 0s - loss: 2.6392e-04 - accuracy: 1.0000 - 75ms/epoch - 15ms/step\n",
            "Epoch 88/100\n",
            "5/5 - 0s - loss: 2.4996e-04 - accuracy: 1.0000 - 77ms/epoch - 15ms/step\n",
            "Epoch 89/100\n",
            "5/5 - 0s - loss: 2.4202e-04 - accuracy: 1.0000 - 78ms/epoch - 16ms/step\n",
            "Epoch 90/100\n",
            "5/5 - 0s - loss: 2.1330e-04 - accuracy: 1.0000 - 76ms/epoch - 15ms/step\n",
            "Epoch 91/100\n",
            "5/5 - 0s - loss: 2.1548e-04 - accuracy: 1.0000 - 76ms/epoch - 15ms/step\n",
            "Epoch 92/100\n",
            "5/5 - 0s - loss: 2.2036e-04 - accuracy: 1.0000 - 79ms/epoch - 16ms/step\n",
            "Epoch 93/100\n",
            "5/5 - 0s - loss: 2.0158e-04 - accuracy: 1.0000 - 76ms/epoch - 15ms/step\n",
            "Epoch 94/100\n",
            "5/5 - 0s - loss: 1.8338e-04 - accuracy: 1.0000 - 75ms/epoch - 15ms/step\n",
            "Epoch 95/100\n",
            "5/5 - 0s - loss: 1.7443e-04 - accuracy: 1.0000 - 78ms/epoch - 16ms/step\n",
            "Epoch 96/100\n",
            "5/5 - 0s - loss: 1.7261e-04 - accuracy: 1.0000 - 81ms/epoch - 16ms/step\n",
            "Epoch 97/100\n",
            "5/5 - 0s - loss: 1.6961e-04 - accuracy: 1.0000 - 77ms/epoch - 15ms/step\n",
            "Epoch 98/100\n",
            "5/5 - 0s - loss: 1.6129e-04 - accuracy: 1.0000 - 77ms/epoch - 15ms/step\n",
            "Epoch 99/100\n",
            "5/5 - 0s - loss: 1.5487e-04 - accuracy: 1.0000 - 75ms/epoch - 15ms/step\n",
            "Epoch 100/100\n",
            "5/5 - 0s - loss: 1.4966e-04 - accuracy: 1.0000 - 77ms/epoch - 15ms/step\n"
          ]
        }
      ],
      "source": [
        "history = model.fit(X_train, y_train, epochs=100, batch_size=128, verbose=2)"
      ]
    },
    {
      "cell_type": "code",
      "execution_count": null,
      "metadata": {
        "colab": {
          "base_uri": "https://localhost:8080/"
        },
        "id": "nQFqxAAP3yBt",
        "outputId": "7c8e1b24-a151-42a6-c87a-21ccafe591a9"
      },
      "outputs": [
        {
          "output_type": "stream",
          "name": "stdout",
          "text": [
            "5/5 [==============================] - 0s 21ms/step - loss: 0.0455 - accuracy: 0.9847\n"
          ]
        },
        {
          "output_type": "execute_result",
          "data": {
            "text/plain": [
              "[0.045504722744226456, 0.9847328066825867]"
            ]
          },
          "metadata": {},
          "execution_count": 44
        }
      ],
      "source": [
        "model.evaluate(X_test, y_test)"
      ]
    },
    {
      "cell_type": "code",
      "source": [
        "model.save('my_model.h5')  # creates a HDF5 file 'my_model.h5'"
      ],
      "metadata": {
        "id": "kBpaiKXaHu12"
      },
      "execution_count": null,
      "outputs": []
    },
    {
      "cell_type": "code",
      "source": [
        "ls"
      ],
      "metadata": {
        "colab": {
          "base_uri": "https://localhost:8080/"
        },
        "id": "11Wb0wN7H9PO",
        "outputId": "ec5be437-5677-4254-e735-cae35b99d758"
      },
      "execution_count": null,
      "outputs": [
        {
          "output_type": "stream",
          "name": "stdout",
          "text": [
            "\u001b[0m\u001b[01;34mbangla_banknote_v2\u001b[0m/  \u001b[01;34mflowers\u001b[0m/     Rice_Image_Dataset.zip  VN_food.zip\n",
            "Bangla_money.zip     my_model.h5  \u001b[01;34mVN_food\u001b[0m/\n"
          ]
        }
      ]
    },
    {
      "cell_type": "code",
      "source": [
        "from keras.models import load_model\n",
        "model = load_model('my_model.h5')"
      ],
      "metadata": {
        "id": "LkAwnv3oHSwR"
      },
      "execution_count": null,
      "outputs": []
    },
    {
      "cell_type": "code",
      "execution_count": null,
      "metadata": {
        "colab": {
          "base_uri": "https://localhost:8080/",
          "height": 295
        },
        "id": "njojyMRKvimD",
        "outputId": "f00f2f81-5e96-4898-c656-c67e82566ea7"
      },
      "outputs": [
        {
          "output_type": "display_data",
          "data": {
            "text/plain": [
              "<Figure size 432x288 with 1 Axes>"
            ],
            "image/png": "[encoded data removed]"
          },
          "metadata": {
            "needs_background": "light"
          }
        }
      ],
      "source": [
        "# plt.figure(1)\n",
        "plt.plot(history.history['loss'], label='training loss')\n",
        "# plt.plot(history.history['val_loss'], label='val loss')\n",
        "plt.title('Loss')\n",
        "plt.xlabel('epochs')\n",
        "plt.ylabel('loss')\n",
        "plt.legend()\n",
        "plt.show()"
      ]
    },
    {
      "cell_type": "code",
      "source": [
        "history.history['accuracy']"
      ],
      "metadata": {
        "id": "vwVwEDtJcrGP"
      },
      "execution_count": null,
      "outputs": []
    },
    {
      "cell_type": "code",
      "execution_count": null,
      "metadata": {
        "colab": {
          "base_uri": "https://localhost:8080/",
          "height": 341
        },
        "id": "fAO2-SDGsrPA",
        "outputId": "6204c299-2715-49ff-d6a8-ef1562f89a21"
      },
      "outputs": [
        {
          "output_type": "stream",
          "name": "stdout",
          "text": [
            "(64, 64, 3)\n",
            "1/1 [==============================] - 0s 16ms/step\n",
            "Pred:  10\n",
            "True label:  10\n"
          ]
        },
        {
          "output_type": "display_data",
          "data": {
            "text/plain": [
              "<Figure size 432x288 with 1 Axes>"
            ],
            "image/png": "[encoded data removed]"
          },
          "metadata": {
            "needs_background": "light"
          }
        }
      ],
      "source": [
        "# n = 0\n",
        "n+=1\n",
        "print(X_test[n].shape)\n",
        "plt.imshow(X_test[n])\n",
        "pred = model.predict(X_test[n].reshape(1, 64, 64, 3))\n",
        "print('Pred: ', classnames[pred.argmax()])\n",
        "print('True label: ', classnames[y_test[n].argmax()])"
      ]
    }
  ],
  "metadata": {
    "accelerator": "GPU",
    "colab": {
      "collapsed_sections": [],
      "provenance": []
    },
    "gpuClass": "standard",
    "kernelspec": {
      "display_name": "Python 3",
      "name": "python3"
    },
    "language_info": {
      "name": "python"
    }
  },
  "nbformat": 4,
  "nbformat_minor": 0
}