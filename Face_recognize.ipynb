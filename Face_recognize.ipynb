{
  "nbformat": 4,
  "nbformat_minor": 0,
  "metadata": {
    "colab": {
      "provenance": [],
      "collapsed_sections": []
    },
    "kernelspec": {
      "name": "python3",
      "display_name": "Python 3"
    },
    "language_info": {
      "name": "python"
    },
    "accelerator": "GPU",
    "gpuClass": "standard"
  },
  "cells": [
    {
      "cell_type": "code",
      "execution_count": null,
      "metadata": {
        "id": "Ic1pHn8dx1rM"
      },
      "outputs": [],
      "source": [
        "import sklearn\n",
        "import matplotlib.pyplot as plt\n",
        "import cv2\n",
        "from pathlib import Path\n",
        "import os\n",
        "import numpy as np"
      ]
    },
    {
      "cell_type": "code",
      "source": [
        "from google.colab import drive\n",
        "drive.mount('/content/drive', force_remount=True)"
      ],
      "metadata": {
        "colab": {
          "base_uri": "https://localhost:8080/"
        },
        "id": "OP5olJyBx6OT",
        "outputId": "1d3739a0-a0f6-4b35-f690-30dc4c6631b3"
      },
      "execution_count": null,
      "outputs": [
        {
          "output_type": "stream",
          "name": "stdout",
          "text": [
            "Mounted at /content/drive\n"
          ]
        }
      ]
    },
    {
      "cell_type": "code",
      "source": [
        "cd \"/content/drive/MyDrive/Data_AI_k20\""
      ],
      "metadata": {
        "colab": {
          "base_uri": "https://localhost:8080/"
        },
        "id": "zWmKcmspyDJq",
        "outputId": "4eccc5ed-8bee-4006-98fe-8966056c2d37"
      },
      "execution_count": null,
      "outputs": [
        {
          "output_type": "stream",
          "name": "stdout",
          "text": [
            "/content/drive/.shortcut-targets-by-id/1nMZkJtIkGK4puvqF_kUXAhOn-ehS3fpf/Data_AI_k20\n"
          ]
        }
      ]
    },
    {
      "cell_type": "code",
      "source": [
        "ls"
      ],
      "metadata": {
        "colab": {
          "base_uri": "https://localhost:8080/"
        },
        "id": "_bgc6-RByrSu",
        "outputId": "8bd1af18-2e39-41fc-aaaa-c47be171ab87"
      },
      "execution_count": null,
      "outputs": [
        {
          "output_type": "stream",
          "name": "stdout",
          "text": [
            "\u001b[0m\u001b[01;34mAi\u001b[0m/    \u001b[01;34mHan\u001b[0m/    \u001b[01;34mLamVu\u001b[0m/   \u001b[01;34mphi\u001b[0m/   \u001b[01;34mTan\u001b[0m/   \u001b[01;34mThoai\u001b[0m/\n",
            "\u001b[01;34mDang\u001b[0m/  \u001b[01;34mHoang\u001b[0m/  \u001b[01;34mNguyen\u001b[0m/  \u001b[01;34mPhuc\u001b[0m/  \u001b[01;34mTanh\u001b[0m/  \u001b[01;34mThuong\u001b[0m/\n"
          ]
        }
      ]
    },
    {
      "cell_type": "code",
      "source": [
        "# preprocessing\n",
        "link = \"/content/drive/MyDrive/Data_AI_k20/\"\n",
        "face_names = os.listdir(link)\n",
        "face_path = []\n",
        "for face_name in face_names:\n",
        "  face_path.append(os.path.join(link, face_name))\n",
        "print(face_names)\n",
        "X = []\n",
        "y = []\n",
        "for i in range(len(face_path)):\n",
        "  print(face_names[i])\n",
        "  img_path = list(Path(face_path[i]).glob(\"*\"))\n",
        "  for j in img_path:\n",
        "    img = plt.imread(j)\n",
        "    img = cv2.resize(img, (128, 128))\n",
        "    img.astype('float32')\n",
        "    img = img/255\n",
        "    X.append(img)\n",
        "    y.append(i)"
      ],
      "metadata": {
        "colab": {
          "base_uri": "https://localhost:8080/"
        },
        "id": "OQTkiT6XytS6",
        "outputId": "2c900d22-cc25-4065-a38b-b9370afc1971"
      },
      "execution_count": null,
      "outputs": [
        {
          "output_type": "stream",
          "name": "stdout",
          "text": [
            "['Ai', 'Tan', 'Thoai', 'Thuong', 'Phuc', 'Tanh', 'Hoang', 'phi', 'LamVu', 'Han', 'Nguyen', 'Dang']\n",
            "Ai\n",
            "Tan\n",
            "Thoai\n",
            "Thuong\n",
            "Phuc\n",
            "Tanh\n",
            "Hoang\n",
            "phi\n",
            "LamVu\n",
            "Han\n",
            "Nguyen\n",
            "Dang\n"
          ]
        }
      ]
    },
    {
      "cell_type": "code",
      "source": [
        "X = np.array(X)\n",
        "y = np.array(y)"
      ],
      "metadata": {
        "id": "CXntX0uwyw84"
      },
      "execution_count": null,
      "outputs": []
    },
    {
      "cell_type": "code",
      "source": [
        "print(X.shape)\n",
        "print(y.shape)"
      ],
      "metadata": {
        "colab": {
          "base_uri": "https://localhost:8080/"
        },
        "id": "TSPNtGsuyzRD",
        "outputId": "34c52955-ac1e-42f5-edd2-ff7d8eeca049"
      },
      "execution_count": null,
      "outputs": [
        {
          "output_type": "stream",
          "name": "stdout",
          "text": [
            "(1157, 128, 128, 3)\n",
            "(1157,)\n"
          ]
        }
      ]
    },
    {
      "cell_type": "code",
      "source": [
        "from keras.utils import to_categorical\n",
        "y = to_categorical(y)\n",
        "print(y.shape)"
      ],
      "metadata": {
        "colab": {
          "base_uri": "https://localhost:8080/"
        },
        "id": "_fo3qigSy0kC",
        "outputId": "04083a09-1c25-46c3-d116-497672e412e9"
      },
      "execution_count": null,
      "outputs": [
        {
          "output_type": "stream",
          "name": "stdout",
          "text": [
            "(1157, 12)\n"
          ]
        }
      ]
    },
    {
      "cell_type": "code",
      "source": [
        "from sklearn.model_selection import train_test_split\n",
        "X_train, X_test, y_train, y_test = train_test_split(X, y, test_size=0.2)"
      ],
      "metadata": {
        "id": "UTkdvEMXy2D0"
      },
      "execution_count": null,
      "outputs": []
    },
    {
      "cell_type": "code",
      "source": [
        "print(y_test.shape)"
      ],
      "metadata": {
        "colab": {
          "base_uri": "https://localhost:8080/"
        },
        "id": "tR0IBVKB6A32",
        "outputId": "9d08aa8d-53f9-4a54-f878-ec56e4432233"
      },
      "execution_count": null,
      "outputs": [
        {
          "output_type": "stream",
          "name": "stdout",
          "text": [
            "(232, 12)\n"
          ]
        }
      ]
    },
    {
      "cell_type": "code",
      "source": [
        "from keras import models, layers\n",
        "from keras.layers import Flatten, Dense, Activation\n",
        "from keras.layers import Conv2D, MaxPooling2D\n",
        "from keras.models import Sequential,Model\n",
        "model = Sequential()\n",
        "model.add(Conv2D(32,kernel_size=(3,3), activation='relu',input_shape=(128,128,3),padding='same'))\n",
        "model.add(MaxPooling2D(2,2))\n",
        "model.add(Conv2D(64,kernel_size=(3,3), activation='relu',padding='same'))\n",
        "model.add(MaxPooling2D(2,2))\n",
        "model.add(Conv2D(128,kernel_size=(3,3), activation='relu',padding='same'))\n",
        "model.add(MaxPooling2D(2,2))\n",
        "\n",
        "model.add(Flatten())\n",
        "model.add(Dense(128,activation='relu'))\n",
        "model.add(Dense(12,activation='softmax'))\n",
        "model.summary()\n",
        "model.compile(optimizer='rmsprop', loss='categorical_crossentropy', metrics=['accuracy'])"
      ],
      "metadata": {
        "colab": {
          "base_uri": "https://localhost:8080/"
        },
        "id": "yjPVtpCSy3rT",
        "outputId": "51aa2e16-d29d-4dc6-f6a6-297ca0a5d536"
      },
      "execution_count": null,
      "outputs": [
        {
          "output_type": "stream",
          "name": "stdout",
          "text": [
            "Model: \"sequential_3\"\n",
            "_________________________________________________________________\n",
            " Layer (type)                Output Shape              Param #   \n",
            "=================================================================\n",
            " conv2d_6 (Conv2D)           (None, 128, 128, 32)      896       \n",
            "                                                                 \n",
            " max_pooling2d_6 (MaxPooling  (None, 64, 64, 32)       0         \n",
            " 2D)                                                             \n",
            "                                                                 \n",
            " conv2d_7 (Conv2D)           (None, 64, 64, 64)        18496     \n",
            "                                                                 \n",
            " max_pooling2d_7 (MaxPooling  (None, 32, 32, 64)       0         \n",
            " 2D)                                                             \n",
            "                                                                 \n",
            " conv2d_8 (Conv2D)           (None, 32, 32, 128)       73856     \n",
            "                                                                 \n",
            " max_pooling2d_8 (MaxPooling  (None, 16, 16, 128)      0         \n",
            " 2D)                                                             \n",
            "                                                                 \n",
            " flatten_3 (Flatten)         (None, 32768)             0         \n",
            "                                                                 \n",
            " dense_10 (Dense)            (None, 128)               4194432   \n",
            "                                                                 \n",
            " dense_11 (Dense)            (None, 12)                1548      \n",
            "                                                                 \n",
            "=================================================================\n",
            "Total params: 4,289,228\n",
            "Trainable params: 4,289,228\n",
            "Non-trainable params: 0\n",
            "_________________________________________________________________\n"
          ]
        }
      ]
    },
    {
      "cell_type": "code",
      "source": [
        "model.fit(X_train, y_train, epochs=200, batch_size=128, verbose=2)"
      ],
      "metadata": {
        "colab": {
          "base_uri": "https://localhost:8080/"
        },
        "id": "yAYybQgty7nK",
        "outputId": "e351d6b2-1de2-419e-8b70-5afb6709d64f"
      },
      "execution_count": null,
      "outputs": [
        {
          "output_type": "stream",
          "name": "stdout",
          "text": [
            "Epoch 1/200\n",
            "8/8 - 8s - loss: 3.5046 - accuracy: 0.2378 - 8s/epoch - 1s/step\n",
            "Epoch 2/200\n",
            "8/8 - 0s - loss: 1.2789 - accuracy: 0.5903 - 482ms/epoch - 60ms/step\n",
            "Epoch 3/200\n",
            "8/8 - 0s - loss: 0.1450 - accuracy: 0.9600 - 480ms/epoch - 60ms/step\n",
            "Epoch 4/200\n",
            "8/8 - 0s - loss: 0.2562 - accuracy: 0.9351 - 479ms/epoch - 60ms/step\n",
            "Epoch 5/200\n",
            "8/8 - 0s - loss: 0.0146 - accuracy: 0.9978 - 484ms/epoch - 61ms/step\n",
            "Epoch 6/200\n",
            "8/8 - 0s - loss: 0.0039 - accuracy: 1.0000 - 483ms/epoch - 60ms/step\n",
            "Epoch 7/200\n",
            "8/8 - 0s - loss: 0.0010 - accuracy: 1.0000 - 484ms/epoch - 61ms/step\n",
            "Epoch 8/200\n",
            "8/8 - 0s - loss: 4.7264e-04 - accuracy: 1.0000 - 481ms/epoch - 60ms/step\n",
            "Epoch 9/200\n",
            "8/8 - 0s - loss: 2.4178e-04 - accuracy: 1.0000 - 482ms/epoch - 60ms/step\n",
            "Epoch 10/200\n",
            "8/8 - 0s - loss: 1.1156e-04 - accuracy: 1.0000 - 481ms/epoch - 60ms/step\n",
            "Epoch 11/200\n",
            "8/8 - 0s - loss: 6.1491e-05 - accuracy: 1.0000 - 482ms/epoch - 60ms/step\n",
            "Epoch 12/200\n",
            "8/8 - 0s - loss: 4.0675e-05 - accuracy: 1.0000 - 484ms/epoch - 60ms/step\n",
            "Epoch 13/200\n",
            "8/8 - 0s - loss: 2.3233e-05 - accuracy: 1.0000 - 483ms/epoch - 60ms/step\n",
            "Epoch 14/200\n",
            "8/8 - 0s - loss: 1.4227e-05 - accuracy: 1.0000 - 479ms/epoch - 60ms/step\n",
            "Epoch 15/200\n",
            "8/8 - 0s - loss: 8.4414e-06 - accuracy: 1.0000 - 484ms/epoch - 60ms/step\n",
            "Epoch 16/200\n",
            "8/8 - 0s - loss: 6.1601e-06 - accuracy: 1.0000 - 484ms/epoch - 61ms/step\n",
            "Epoch 17/200\n",
            "8/8 - 0s - loss: 4.3637e-06 - accuracy: 1.0000 - 489ms/epoch - 61ms/step\n",
            "Epoch 18/200\n",
            "8/8 - 0s - loss: 1.8342e-06 - accuracy: 1.0000 - 488ms/epoch - 61ms/step\n",
            "Epoch 19/200\n",
            "8/8 - 0s - loss: 1.2819e-06 - accuracy: 1.0000 - 482ms/epoch - 60ms/step\n",
            "Epoch 20/200\n",
            "8/8 - 0s - loss: 9.4876e-07 - accuracy: 1.0000 - 480ms/epoch - 60ms/step\n",
            "Epoch 21/200\n",
            "8/8 - 0s - loss: 5.0158e-07 - accuracy: 1.0000 - 484ms/epoch - 60ms/step\n",
            "Epoch 22/200\n",
            "8/8 - 0s - loss: 3.4293e-07 - accuracy: 1.0000 - 494ms/epoch - 62ms/step\n",
            "Epoch 23/200\n",
            "8/8 - 0s - loss: 3.9500e-07 - accuracy: 1.0000 - 481ms/epoch - 60ms/step\n",
            "Epoch 24/200\n",
            "8/8 - 0s - loss: 1.5053e-07 - accuracy: 1.0000 - 489ms/epoch - 61ms/step\n",
            "Epoch 25/200\n",
            "8/8 - 0s - loss: 1.0052e-07 - accuracy: 1.0000 - 487ms/epoch - 61ms/step\n",
            "Epoch 26/200\n",
            "8/8 - 0s - loss: 7.4876e-08 - accuracy: 1.0000 - 487ms/epoch - 61ms/step\n",
            "Epoch 27/200\n",
            "8/8 - 0s - loss: 5.5287e-08 - accuracy: 1.0000 - 487ms/epoch - 61ms/step\n",
            "Epoch 28/200\n",
            "8/8 - 0s - loss: 5.5932e-08 - accuracy: 1.0000 - 486ms/epoch - 61ms/step\n",
            "Epoch 29/200\n",
            "8/8 - 0s - loss: 2.9770e-08 - accuracy: 1.0000 - 489ms/epoch - 61ms/step\n",
            "Epoch 30/200\n",
            "8/8 - 0s - loss: 2.3326e-08 - accuracy: 1.0000 - 492ms/epoch - 62ms/step\n",
            "Epoch 31/200\n",
            "8/8 - 0s - loss: 1.9460e-08 - accuracy: 1.0000 - 486ms/epoch - 61ms/step\n",
            "Epoch 32/200\n",
            "8/8 - 0s - loss: 1.4176e-08 - accuracy: 1.0000 - 482ms/epoch - 60ms/step\n",
            "Epoch 33/200\n",
            "8/8 - 0s - loss: 1.3274e-08 - accuracy: 1.0000 - 481ms/epoch - 60ms/step\n",
            "Epoch 34/200\n",
            "8/8 - 0s - loss: 8.2480e-09 - accuracy: 1.0000 - 483ms/epoch - 60ms/step\n",
            "Epoch 35/200\n",
            "8/8 - 0s - loss: 7.7325e-09 - accuracy: 1.0000 - 479ms/epoch - 60ms/step\n",
            "Epoch 36/200\n",
            "8/8 - 0s - loss: 6.9592e-09 - accuracy: 1.0000 - 483ms/epoch - 60ms/step\n",
            "Epoch 37/200\n",
            "8/8 - 0s - loss: 1.1856e-08 - accuracy: 1.0000 - 484ms/epoch - 60ms/step\n",
            "Epoch 38/200\n",
            "8/8 - 0s - loss: 3.8662e-09 - accuracy: 1.0000 - 484ms/epoch - 60ms/step\n",
            "Epoch 39/200\n",
            "8/8 - 0s - loss: 4.1240e-09 - accuracy: 1.0000 - 486ms/epoch - 61ms/step\n",
            "Epoch 40/200\n",
            "8/8 - 0s - loss: 3.2219e-09 - accuracy: 1.0000 - 487ms/epoch - 61ms/step\n",
            "Epoch 41/200\n",
            "8/8 - 0s - loss: 2.7064e-09 - accuracy: 1.0000 - 487ms/epoch - 61ms/step\n",
            "Epoch 42/200\n",
            "8/8 - 0s - loss: 2.9641e-09 - accuracy: 1.0000 - 491ms/epoch - 61ms/step\n",
            "Epoch 43/200\n",
            "8/8 - 0s - loss: 2.4486e-09 - accuracy: 1.0000 - 484ms/epoch - 60ms/step\n",
            "Epoch 44/200\n",
            "8/8 - 0s - loss: 3.0930e-09 - accuracy: 1.0000 - 482ms/epoch - 60ms/step\n",
            "Epoch 45/200\n",
            "8/8 - 0s - loss: 6.2679 - accuracy: 0.8238 - 486ms/epoch - 61ms/step\n",
            "Epoch 46/200\n",
            "8/8 - 0s - loss: 0.0493 - accuracy: 0.9870 - 481ms/epoch - 60ms/step\n",
            "Epoch 47/200\n",
            "8/8 - 0s - loss: 0.0063 - accuracy: 1.0000 - 482ms/epoch - 60ms/step\n",
            "Epoch 48/200\n",
            "8/8 - 0s - loss: 0.0030 - accuracy: 1.0000 - 481ms/epoch - 60ms/step\n",
            "Epoch 49/200\n",
            "8/8 - 0s - loss: 0.0016 - accuracy: 1.0000 - 493ms/epoch - 62ms/step\n",
            "Epoch 50/200\n",
            "8/8 - 0s - loss: 0.0011 - accuracy: 1.0000 - 483ms/epoch - 60ms/step\n",
            "Epoch 51/200\n",
            "8/8 - 0s - loss: 6.1371e-04 - accuracy: 1.0000 - 488ms/epoch - 61ms/step\n",
            "Epoch 52/200\n",
            "8/8 - 0s - loss: 4.1929e-04 - accuracy: 1.0000 - 481ms/epoch - 60ms/step\n",
            "Epoch 53/200\n",
            "8/8 - 1s - loss: 9.2086e-04 - accuracy: 1.0000 - 531ms/epoch - 66ms/step\n",
            "Epoch 54/200\n",
            "8/8 - 1s - loss: 1.5087e-04 - accuracy: 1.0000 - 516ms/epoch - 65ms/step\n",
            "Epoch 55/200\n",
            "8/8 - 1s - loss: 9.8237e-05 - accuracy: 1.0000 - 533ms/epoch - 67ms/step\n",
            "Epoch 56/200\n",
            "8/8 - 1s - loss: 8.9934e-05 - accuracy: 1.0000 - 508ms/epoch - 63ms/step\n",
            "Epoch 57/200\n",
            "8/8 - 1s - loss: 4.1635e-05 - accuracy: 1.0000 - 522ms/epoch - 65ms/step\n",
            "Epoch 58/200\n",
            "8/8 - 1s - loss: 2.9860e-05 - accuracy: 1.0000 - 504ms/epoch - 63ms/step\n",
            "Epoch 59/200\n",
            "8/8 - 0s - loss: 2.0753e-05 - accuracy: 1.0000 - 493ms/epoch - 62ms/step\n",
            "Epoch 60/200\n",
            "8/8 - 0s - loss: 1.9107e-05 - accuracy: 1.0000 - 482ms/epoch - 60ms/step\n",
            "Epoch 61/200\n",
            "8/8 - 0s - loss: 8.8459e-06 - accuracy: 1.0000 - 483ms/epoch - 60ms/step\n",
            "Epoch 62/200\n",
            "8/8 - 0s - loss: 5.6559e-06 - accuracy: 1.0000 - 482ms/epoch - 60ms/step\n",
            "Epoch 63/200\n",
            "8/8 - 0s - loss: 3.6392e-06 - accuracy: 1.0000 - 486ms/epoch - 61ms/step\n",
            "Epoch 64/200\n",
            "8/8 - 0s - loss: 3.1168e-06 - accuracy: 1.0000 - 482ms/epoch - 60ms/step\n",
            "Epoch 65/200\n",
            "8/8 - 0s - loss: 1.5188e-06 - accuracy: 1.0000 - 484ms/epoch - 60ms/step\n",
            "Epoch 66/200\n",
            "8/8 - 0s - loss: 2.9231 - accuracy: 0.8270 - 483ms/epoch - 60ms/step\n",
            "Epoch 67/200\n",
            "8/8 - 0s - loss: 9.5781e-04 - accuracy: 1.0000 - 484ms/epoch - 61ms/step\n",
            "Epoch 68/200\n",
            "8/8 - 0s - loss: 2.0059e-04 - accuracy: 1.0000 - 483ms/epoch - 60ms/step\n",
            "Epoch 69/200\n",
            "8/8 - 0s - loss: 1.3314e-04 - accuracy: 1.0000 - 490ms/epoch - 61ms/step\n",
            "Epoch 70/200\n",
            "8/8 - 0s - loss: 1.1269e-04 - accuracy: 1.0000 - 489ms/epoch - 61ms/step\n",
            "Epoch 71/200\n",
            "8/8 - 0s - loss: 7.3637e-05 - accuracy: 1.0000 - 487ms/epoch - 61ms/step\n",
            "Epoch 72/200\n",
            "8/8 - 0s - loss: 5.4426e-05 - accuracy: 1.0000 - 480ms/epoch - 60ms/step\n",
            "Epoch 73/200\n",
            "8/8 - 0s - loss: 4.3388e-05 - accuracy: 1.0000 - 481ms/epoch - 60ms/step\n",
            "Epoch 74/200\n",
            "8/8 - 0s - loss: 3.1275e-05 - accuracy: 1.0000 - 480ms/epoch - 60ms/step\n",
            "Epoch 75/200\n",
            "8/8 - 0s - loss: 3.2381e-05 - accuracy: 1.0000 - 486ms/epoch - 61ms/step\n",
            "Epoch 76/200\n",
            "8/8 - 0s - loss: 1.8315e-05 - accuracy: 1.0000 - 481ms/epoch - 60ms/step\n",
            "Epoch 77/200\n",
            "8/8 - 0s - loss: 1.2577e-05 - accuracy: 1.0000 - 480ms/epoch - 60ms/step\n",
            "Epoch 78/200\n",
            "8/8 - 0s - loss: 8.9219e-06 - accuracy: 1.0000 - 491ms/epoch - 61ms/step\n",
            "Epoch 79/200\n",
            "8/8 - 0s - loss: 8.0606e-06 - accuracy: 1.0000 - 483ms/epoch - 60ms/step\n",
            "Epoch 80/200\n",
            "8/8 - 0s - loss: 5.3525e-06 - accuracy: 1.0000 - 480ms/epoch - 60ms/step\n",
            "Epoch 81/200\n",
            "8/8 - 0s - loss: 3.8705e-06 - accuracy: 1.0000 - 489ms/epoch - 61ms/step\n",
            "Epoch 82/200\n",
            "8/8 - 0s - loss: 2.5820e-06 - accuracy: 1.0000 - 485ms/epoch - 61ms/step\n",
            "Epoch 83/200\n",
            "8/8 - 0s - loss: 1.7418e-06 - accuracy: 1.0000 - 484ms/epoch - 60ms/step\n",
            "Epoch 84/200\n",
            "8/8 - 0s - loss: 1.2418e-06 - accuracy: 1.0000 - 488ms/epoch - 61ms/step\n",
            "Epoch 85/200\n",
            "8/8 - 0s - loss: 8.3420e-07 - accuracy: 1.0000 - 481ms/epoch - 60ms/step\n",
            "Epoch 86/200\n",
            "8/8 - 0s - loss: 5.6550e-07 - accuracy: 1.0000 - 490ms/epoch - 61ms/step\n",
            "Epoch 87/200\n",
            "8/8 - 0s - loss: 4.1562e-07 - accuracy: 1.0000 - 487ms/epoch - 61ms/step\n",
            "Epoch 88/200\n",
            "8/8 - 0s - loss: 2.8894e-07 - accuracy: 1.0000 - 485ms/epoch - 61ms/step\n",
            "Epoch 89/200\n",
            "8/8 - 0s - loss: 1.7707e-07 - accuracy: 1.0000 - 486ms/epoch - 61ms/step\n",
            "Epoch 90/200\n",
            "8/8 - 0s - loss: 2.2707e-07 - accuracy: 1.0000 - 492ms/epoch - 61ms/step\n",
            "Epoch 91/200\n",
            "8/8 - 0s - loss: 6.6757e-08 - accuracy: 1.0000 - 485ms/epoch - 61ms/step\n",
            "Epoch 92/200\n",
            "8/8 - 0s - loss: 5.1808e-08 - accuracy: 1.0000 - 492ms/epoch - 61ms/step\n",
            "Epoch 93/200\n",
            "8/8 - 0s - loss: 3.9307e-08 - accuracy: 1.0000 - 488ms/epoch - 61ms/step\n",
            "Epoch 94/200\n",
            "8/8 - 0s - loss: 2.8868e-08 - accuracy: 1.0000 - 480ms/epoch - 60ms/step\n",
            "Epoch 95/200\n",
            "8/8 - 0s - loss: 2.2553e-08 - accuracy: 1.0000 - 484ms/epoch - 60ms/step\n",
            "Epoch 96/200\n",
            "8/8 - 0s - loss: 1.7269e-08 - accuracy: 1.0000 - 495ms/epoch - 62ms/step\n",
            "Epoch 97/200\n",
            "8/8 - 0s - loss: 1.3145e-08 - accuracy: 1.0000 - 486ms/epoch - 61ms/step\n",
            "Epoch 98/200\n",
            "8/8 - 0s - loss: 1.0052e-08 - accuracy: 1.0000 - 489ms/epoch - 61ms/step\n",
            "Epoch 99/200\n",
            "8/8 - 0s - loss: 7.9902e-09 - accuracy: 1.0000 - 488ms/epoch - 61ms/step\n",
            "Epoch 100/200\n",
            "8/8 - 0s - loss: 5.7994e-09 - accuracy: 1.0000 - 493ms/epoch - 62ms/step\n",
            "Epoch 101/200\n",
            "8/8 - 0s - loss: 4.5106e-09 - accuracy: 1.0000 - 483ms/epoch - 60ms/step\n",
            "Epoch 102/200\n",
            "8/8 - 0s - loss: 3.6085e-09 - accuracy: 1.0000 - 488ms/epoch - 61ms/step\n",
            "Epoch 103/200\n",
            "8/8 - 0s - loss: 2.7064e-09 - accuracy: 1.0000 - 487ms/epoch - 61ms/step\n",
            "Epoch 104/200\n",
            "8/8 - 0s - loss: 2.3197e-09 - accuracy: 1.0000 - 493ms/epoch - 62ms/step\n",
            "Epoch 105/200\n",
            "8/8 - 0s - loss: 2.3197e-09 - accuracy: 1.0000 - 482ms/epoch - 60ms/step\n",
            "Epoch 106/200\n",
            "8/8 - 0s - loss: 1.4176e-09 - accuracy: 1.0000 - 489ms/epoch - 61ms/step\n",
            "Epoch 107/200\n",
            "8/8 - 0s - loss: 1.6754e-09 - accuracy: 1.0000 - 486ms/epoch - 61ms/step\n",
            "Epoch 108/200\n",
            "8/8 - 0s - loss: 1.0310e-09 - accuracy: 1.0000 - 480ms/epoch - 60ms/step\n",
            "Epoch 109/200\n",
            "8/8 - 0s - loss: 1.1599e-09 - accuracy: 1.0000 - 485ms/epoch - 61ms/step\n",
            "Epoch 110/200\n",
            "8/8 - 0s - loss: 1.1599e-09 - accuracy: 1.0000 - 482ms/epoch - 60ms/step\n",
            "Epoch 111/200\n",
            "8/8 - 0s - loss: 1.1599e-09 - accuracy: 1.0000 - 486ms/epoch - 61ms/step\n",
            "Epoch 112/200\n",
            "8/8 - 0s - loss: 5.1550e-10 - accuracy: 1.0000 - 492ms/epoch - 61ms/step\n",
            "Epoch 113/200\n",
            "8/8 - 0s - loss: 7.7325e-10 - accuracy: 1.0000 - 491ms/epoch - 61ms/step\n",
            "Epoch 114/200\n",
            "8/8 - 0s - loss: 7.7325e-10 - accuracy: 1.0000 - 488ms/epoch - 61ms/step\n",
            "Epoch 115/200\n",
            "8/8 - 0s - loss: 7.7325e-10 - accuracy: 1.0000 - 489ms/epoch - 61ms/step\n",
            "Epoch 116/200\n",
            "8/8 - 0s - loss: 7.7325e-10 - accuracy: 1.0000 - 494ms/epoch - 62ms/step\n",
            "Epoch 117/200\n",
            "8/8 - 0s - loss: 6.4437e-10 - accuracy: 1.0000 - 488ms/epoch - 61ms/step\n",
            "Epoch 118/200\n",
            "8/8 - 0s - loss: 6.4437e-10 - accuracy: 1.0000 - 488ms/epoch - 61ms/step\n",
            "Epoch 119/200\n",
            "8/8 - 0s - loss: 5.1550e-10 - accuracy: 1.0000 - 490ms/epoch - 61ms/step\n",
            "Epoch 120/200\n",
            "8/8 - 0s - loss: 9.0212e-10 - accuracy: 1.0000 - 484ms/epoch - 61ms/step\n",
            "Epoch 121/200\n",
            "8/8 - 0s - loss: 1.1599e-09 - accuracy: 1.0000 - 489ms/epoch - 61ms/step\n",
            "Epoch 122/200\n",
            "8/8 - 0s - loss: 1.0310e-09 - accuracy: 1.0000 - 484ms/epoch - 61ms/step\n",
            "Epoch 123/200\n",
            "8/8 - 0s - loss: 2.0620e-09 - accuracy: 1.0000 - 488ms/epoch - 61ms/step\n",
            "Epoch 124/200\n",
            "8/8 - 0s - loss: 3.8662e-10 - accuracy: 1.0000 - 486ms/epoch - 61ms/step\n",
            "Epoch 125/200\n",
            "8/8 - 0s - loss: 9.0212e-10 - accuracy: 1.0000 - 486ms/epoch - 61ms/step\n",
            "Epoch 126/200\n",
            "8/8 - 0s - loss: 3.2219e-09 - accuracy: 1.0000 - 486ms/epoch - 61ms/step\n",
            "Epoch 127/200\n",
            "8/8 - 0s - loss: 2.0620e-09 - accuracy: 1.0000 - 493ms/epoch - 62ms/step\n",
            "Epoch 128/200\n",
            "8/8 - 0s - loss: 9.0212e-10 - accuracy: 1.0000 - 487ms/epoch - 61ms/step\n",
            "Epoch 129/200\n",
            "8/8 - 0s - loss: 7.7325e-10 - accuracy: 1.0000 - 483ms/epoch - 60ms/step\n",
            "Epoch 130/200\n",
            "8/8 - 0s - loss: 6.4437e-10 - accuracy: 1.0000 - 491ms/epoch - 61ms/step\n",
            "Epoch 131/200\n",
            "8/8 - 0s - loss: 1.1599e-09 - accuracy: 1.0000 - 491ms/epoch - 61ms/step\n",
            "Epoch 132/200\n",
            "8/8 - 0s - loss: 3.7374e-09 - accuracy: 1.0000 - 489ms/epoch - 61ms/step\n",
            "Epoch 133/200\n",
            "8/8 - 0s - loss: 2.0620e-09 - accuracy: 1.0000 - 485ms/epoch - 61ms/step\n",
            "Epoch 134/200\n",
            "8/8 - 0s - loss: 3.8662e-10 - accuracy: 1.0000 - 496ms/epoch - 62ms/step\n",
            "Epoch 135/200\n",
            "8/8 - 0s - loss: 5.1550e-10 - accuracy: 1.0000 - 489ms/epoch - 61ms/step\n",
            "Epoch 136/200\n",
            "8/8 - 0s - loss: 7.7325e-10 - accuracy: 1.0000 - 483ms/epoch - 60ms/step\n",
            "Epoch 137/200\n",
            "8/8 - 0s - loss: 7.7325e-10 - accuracy: 1.0000 - 484ms/epoch - 61ms/step\n",
            "Epoch 138/200\n",
            "8/8 - 0s - loss: 1.1341e-08 - accuracy: 1.0000 - 485ms/epoch - 61ms/step\n",
            "Epoch 139/200\n",
            "8/8 - 0s - loss: 2.9640 - accuracy: 0.8778 - 489ms/epoch - 61ms/step\n",
            "Epoch 140/200\n",
            "8/8 - 0s - loss: 2.8943e-04 - accuracy: 1.0000 - 489ms/epoch - 61ms/step\n",
            "Epoch 141/200\n",
            "8/8 - 0s - loss: 1.3567e-04 - accuracy: 1.0000 - 487ms/epoch - 61ms/step\n",
            "Epoch 142/200\n",
            "8/8 - 0s - loss: 1.0136e-04 - accuracy: 1.0000 - 489ms/epoch - 61ms/step\n",
            "Epoch 143/200\n",
            "8/8 - 0s - loss: 9.0712e-05 - accuracy: 1.0000 - 485ms/epoch - 61ms/step\n",
            "Epoch 144/200\n",
            "8/8 - 0s - loss: 5.5717e-05 - accuracy: 1.0000 - 482ms/epoch - 60ms/step\n",
            "Epoch 145/200\n",
            "8/8 - 0s - loss: 4.5372e-05 - accuracy: 1.0000 - 496ms/epoch - 62ms/step\n",
            "Epoch 146/200\n",
            "8/8 - 0s - loss: 4.0650e-05 - accuracy: 1.0000 - 490ms/epoch - 61ms/step\n",
            "Epoch 147/200\n",
            "8/8 - 0s - loss: 2.3045e-05 - accuracy: 1.0000 - 488ms/epoch - 61ms/step\n",
            "Epoch 148/200\n",
            "8/8 - 0s - loss: 1.8761e-05 - accuracy: 1.0000 - 486ms/epoch - 61ms/step\n",
            "Epoch 149/200\n",
            "8/8 - 0s - loss: 1.3385e-05 - accuracy: 1.0000 - 485ms/epoch - 61ms/step\n",
            "Epoch 150/200\n",
            "8/8 - 0s - loss: 1.0563e-05 - accuracy: 1.0000 - 481ms/epoch - 60ms/step\n",
            "Epoch 151/200\n",
            "8/8 - 0s - loss: 6.7189e-06 - accuracy: 1.0000 - 488ms/epoch - 61ms/step\n",
            "Epoch 152/200\n",
            "8/8 - 0s - loss: 5.1669e-06 - accuracy: 1.0000 - 496ms/epoch - 62ms/step\n",
            "Epoch 153/200\n",
            "8/8 - 1s - loss: 3.2375e-06 - accuracy: 1.0000 - 501ms/epoch - 63ms/step\n",
            "Epoch 154/200\n",
            "8/8 - 1s - loss: 2.2923e-06 - accuracy: 1.0000 - 524ms/epoch - 65ms/step\n",
            "Epoch 155/200\n",
            "8/8 - 1s - loss: 1.6061e-06 - accuracy: 1.0000 - 540ms/epoch - 67ms/step\n",
            "Epoch 156/200\n",
            "8/8 - 1s - loss: 1.2135e-06 - accuracy: 1.0000 - 507ms/epoch - 63ms/step\n",
            "Epoch 157/200\n",
            "8/8 - 1s - loss: 6.5017e-07 - accuracy: 1.0000 - 531ms/epoch - 66ms/step\n",
            "Epoch 158/200\n",
            "8/8 - 1s - loss: 4.7439e-07 - accuracy: 1.0000 - 525ms/epoch - 66ms/step\n",
            "Epoch 159/200\n",
            "8/8 - 1s - loss: 3.1239e-07 - accuracy: 1.0000 - 529ms/epoch - 66ms/step\n",
            "Epoch 160/200\n",
            "8/8 - 1s - loss: 2.0697e-07 - accuracy: 1.0000 - 537ms/epoch - 67ms/step\n",
            "Epoch 161/200\n",
            "8/8 - 1s - loss: 1.3983e-07 - accuracy: 1.0000 - 538ms/epoch - 67ms/step\n",
            "Epoch 162/200\n",
            "8/8 - 1s - loss: 9.9234e-08 - accuracy: 1.0000 - 579ms/epoch - 72ms/step\n",
            "Epoch 163/200\n",
            "8/8 - 0s - loss: 7.1525e-08 - accuracy: 1.0000 - 496ms/epoch - 62ms/step\n",
            "Epoch 164/200\n",
            "8/8 - 0s - loss: 4.8586e-08 - accuracy: 1.0000 - 486ms/epoch - 61ms/step\n",
            "Epoch 165/200\n",
            "8/8 - 0s - loss: 3.6343e-08 - accuracy: 1.0000 - 485ms/epoch - 61ms/step\n",
            "Epoch 166/200\n",
            "8/8 - 0s - loss: 2.5904e-08 - accuracy: 1.0000 - 490ms/epoch - 61ms/step\n",
            "Epoch 167/200\n",
            "8/8 - 1s - loss: 1.7269e-08 - accuracy: 1.0000 - 512ms/epoch - 64ms/step\n",
            "Epoch 168/200\n",
            "8/8 - 1s - loss: 1.2372e-08 - accuracy: 1.0000 - 545ms/epoch - 68ms/step\n",
            "Epoch 169/200\n",
            "8/8 - 1s - loss: 9.0212e-09 - accuracy: 1.0000 - 530ms/epoch - 66ms/step\n",
            "Epoch 170/200\n",
            "8/8 - 1s - loss: 6.3149e-09 - accuracy: 1.0000 - 536ms/epoch - 67ms/step\n",
            "Epoch 171/200\n",
            "8/8 - 1s - loss: 4.5106e-09 - accuracy: 1.0000 - 515ms/epoch - 64ms/step\n",
            "Epoch 172/200\n",
            "8/8 - 0s - loss: 3.4796e-09 - accuracy: 1.0000 - 484ms/epoch - 61ms/step\n",
            "Epoch 173/200\n",
            "8/8 - 0s - loss: 2.4486e-09 - accuracy: 1.0000 - 496ms/epoch - 62ms/step\n",
            "Epoch 174/200\n",
            "8/8 - 0s - loss: 1.9331e-09 - accuracy: 1.0000 - 489ms/epoch - 61ms/step\n",
            "Epoch 175/200\n",
            "8/8 - 0s - loss: 1.9331e-09 - accuracy: 1.0000 - 493ms/epoch - 62ms/step\n",
            "Epoch 176/200\n",
            "8/8 - 0s - loss: 1.2887e-09 - accuracy: 1.0000 - 486ms/epoch - 61ms/step\n",
            "Epoch 177/200\n",
            "8/8 - 0s - loss: 1.0310e-09 - accuracy: 1.0000 - 490ms/epoch - 61ms/step\n",
            "Epoch 178/200\n",
            "8/8 - 0s - loss: 9.0212e-10 - accuracy: 1.0000 - 497ms/epoch - 62ms/step\n",
            "Epoch 179/200\n",
            "8/8 - 0s - loss: 6.4437e-10 - accuracy: 1.0000 - 488ms/epoch - 61ms/step\n",
            "Epoch 180/200\n",
            "8/8 - 0s - loss: 3.8662e-10 - accuracy: 1.0000 - 493ms/epoch - 62ms/step\n",
            "Epoch 181/200\n",
            "8/8 - 0s - loss: 7.7325e-10 - accuracy: 1.0000 - 493ms/epoch - 62ms/step\n",
            "Epoch 182/200\n",
            "8/8 - 0s - loss: 3.8662e-10 - accuracy: 1.0000 - 490ms/epoch - 61ms/step\n",
            "Epoch 183/200\n",
            "8/8 - 0s - loss: 7.7325e-10 - accuracy: 1.0000 - 490ms/epoch - 61ms/step\n",
            "Epoch 184/200\n",
            "8/8 - 0s - loss: 5.1550e-10 - accuracy: 1.0000 - 492ms/epoch - 61ms/step\n",
            "Epoch 185/200\n",
            "8/8 - 0s - loss: 2.5775e-10 - accuracy: 1.0000 - 486ms/epoch - 61ms/step\n",
            "Epoch 186/200\n",
            "8/8 - 0s - loss: 3.8662e-10 - accuracy: 1.0000 - 494ms/epoch - 62ms/step\n",
            "Epoch 187/200\n",
            "8/8 - 0s - loss: 1.2887e-10 - accuracy: 1.0000 - 493ms/epoch - 62ms/step\n",
            "Epoch 188/200\n",
            "8/8 - 0s - loss: 2.5775e-10 - accuracy: 1.0000 - 500ms/epoch - 62ms/step\n",
            "Epoch 189/200\n",
            "8/8 - 0s - loss: 2.5775e-10 - accuracy: 1.0000 - 490ms/epoch - 61ms/step\n",
            "Epoch 190/200\n",
            "8/8 - 0s - loss: 3.8662e-10 - accuracy: 1.0000 - 490ms/epoch - 61ms/step\n",
            "Epoch 191/200\n",
            "8/8 - 0s - loss: 2.5775e-10 - accuracy: 1.0000 - 493ms/epoch - 62ms/step\n",
            "Epoch 192/200\n",
            "8/8 - 0s - loss: 1.2887e-10 - accuracy: 1.0000 - 490ms/epoch - 61ms/step\n",
            "Epoch 193/200\n",
            "8/8 - 0s - loss: 2.5775e-10 - accuracy: 1.0000 - 489ms/epoch - 61ms/step\n",
            "Epoch 194/200\n",
            "8/8 - 0s - loss: 2.5775e-10 - accuracy: 1.0000 - 497ms/epoch - 62ms/step\n",
            "Epoch 195/200\n",
            "8/8 - 0s - loss: 1.2887e-10 - accuracy: 1.0000 - 489ms/epoch - 61ms/step\n",
            "Epoch 196/200\n",
            "8/8 - 0s - loss: 1.2887e-10 - accuracy: 1.0000 - 497ms/epoch - 62ms/step\n",
            "Epoch 197/200\n",
            "8/8 - 0s - loss: 1.2887e-10 - accuracy: 1.0000 - 489ms/epoch - 61ms/step\n",
            "Epoch 198/200\n",
            "8/8 - 0s - loss: 1.2887e-10 - accuracy: 1.0000 - 493ms/epoch - 62ms/step\n",
            "Epoch 199/200\n",
            "8/8 - 0s - loss: 2.5775e-10 - accuracy: 1.0000 - 492ms/epoch - 62ms/step\n",
            "Epoch 200/200\n",
            "8/8 - 0s - loss: 3.8662e-10 - accuracy: 1.0000 - 492ms/epoch - 62ms/step\n"
          ]
        },
        {
          "output_type": "execute_result",
          "data": {
            "text/plain": [
              "<keras.callbacks.History at 0x7f53365469d0>"
            ]
          },
          "metadata": {},
          "execution_count": 23
        }
      ]
    },
    {
      "cell_type": "code",
      "source": [
        "model.evaluate(X_test, y_test)"
      ],
      "metadata": {
        "colab": {
          "base_uri": "https://localhost:8080/"
        },
        "id": "pU4QvBO0y9Hx",
        "outputId": "357a8a6f-950f-4af5-d6cc-95a7e0427468"
      },
      "execution_count": null,
      "outputs": [
        {
          "output_type": "stream",
          "name": "stdout",
          "text": [
            "8/8 [==============================] - 0s 22ms/step - loss: 4.9823e-05 - accuracy: 1.0000\n"
          ]
        },
        {
          "output_type": "execute_result",
          "data": {
            "text/plain": [
              "[4.9822810979094356e-05, 1.0]"
            ]
          },
          "metadata": {},
          "execution_count": 24
        }
      ]
    },
    {
      "cell_type": "code",
      "source": [
        "file = \"/content/drive/MyDrive/Data/Face_classification_weight.sav\""
      ],
      "metadata": {
        "id": "kw9zNxSnzA9Y"
      },
      "execution_count": null,
      "outputs": []
    },
    {
      "cell_type": "code",
      "source": [
        "import pickle\n",
        "pickle.dump(model, open(file, 'wb'))"
      ],
      "metadata": {
        "colab": {
          "base_uri": "https://localhost:8080/"
        },
        "id": "vXnT2IB6zCMW",
        "outputId": "a29e840a-c2be-42f1-8ccf-2050323df3bd"
      },
      "execution_count": null,
      "outputs": [
        {
          "output_type": "stream",
          "name": "stderr",
          "text": [
            "WARNING:absl:Found untraced functions such as _jit_compiled_convolution_op, _jit_compiled_convolution_op, _jit_compiled_convolution_op while saving (showing 3 of 3). These functions will not be directly callable after loading.\n"
          ]
        }
      ]
    },
    {
      "cell_type": "code",
      "source": [
        "loaded_model = pickle.load(open(file, 'rb'))"
      ],
      "metadata": {
        "id": "Y6_Ja0yuzDq2"
      },
      "execution_count": null,
      "outputs": []
    },
    {
      "cell_type": "code",
      "source": [
        "X_test[0].shape"
      ],
      "metadata": {
        "id": "oxp8wsn0zE3l"
      },
      "execution_count": null,
      "outputs": []
    },
    {
      "cell_type": "code",
      "source": [
        "# n = 1\n",
        "\n",
        "n += 1\n",
        "print(f'{n}/{len(y_test)}')\n",
        "plt.imshow(X_test[n])\n",
        "pred = loaded_model.predict(X_test[n].reshape((1, 128, 128, 3)))\n",
        "print(f'Predict: {face_names[pred.argmax()]}  ({int(pred[0][pred.argmax()]*100)}%)')\n",
        "print('True_label: ', face_names[y_test[n].argmax()])"
      ],
      "metadata": {
        "colab": {
          "base_uri": "https://localhost:8080/",
          "height": 337
        },
        "id": "li1RiMhLzFWp",
        "outputId": "9224910f-bc95-4267-8461-724ce187cb2b"
      },
      "execution_count": null,
      "outputs": [
        {
          "output_type": "stream",
          "name": "stdout",
          "text": [
            "11/232\n",
            "1/1 [==============================] - 0s 20ms/step\n",
            "Predict: phi  (100%)\n",
            "True_label:  phi\n"
          ]
        },
        {
          "output_type": "display_data",
          "data": {
            "text/plain": [
              "<Figure size 432x288 with 1 Axes>"
            ],
            "image/png": "[encoded data removed]"
          },
          "metadata": {
            "needs_background": "light"
          }
        }
      ]
    }
  ]
}